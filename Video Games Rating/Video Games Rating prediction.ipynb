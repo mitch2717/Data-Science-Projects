{
 "cells": [
  {
   "cell_type": "code",
   "execution_count": 1,
   "metadata": {
    "executionInfo": {
     "elapsed": 1087,
     "status": "ok",
     "timestamp": 1615286553660,
     "user": {
      "displayName": "mitch rebello",
      "photoUrl": "",
      "userId": "11660763223379711488"
     },
     "user_tz": -330
    },
    "id": "iEfTKRQyRRwh"
   },
   "outputs": [],
   "source": [
    "import pandas as pd\n",
    "import numpy as np"
   ]
  },
  {
   "cell_type": "code",
   "execution_count": 2,
   "metadata": {
    "colab": {
     "base_uri": "https://localhost:8080/"
    },
    "executionInfo": {
     "elapsed": 2473,
     "status": "ok",
     "timestamp": 1615286555054,
     "user": {
      "displayName": "mitch rebello",
      "photoUrl": "",
      "userId": "11660763223379711488"
     },
     "user_tz": -330
    },
    "id": "hROMkf5FRqzy",
    "outputId": "2d2eb0f7-cf13-4c2b-f3c9-c8c99e5d23e2"
   },
   "outputs": [],
   "source": [
    "# from google.colab import drive\n",
    "# drive.mount('/content/drive')"
   ]
  },
  {
   "cell_type": "code",
   "execution_count": 3,
   "metadata": {
    "executionInfo": {
     "elapsed": 2471,
     "status": "ok",
     "timestamp": 1615286555058,
     "user": {
      "displayName": "mitch rebello",
      "photoUrl": "",
      "userId": "11660763223379711488"
     },
     "user_tz": -330
    },
    "id": "tfrv2V26Taxp"
   },
   "outputs": [],
   "source": [
    "# import os \n",
    "# os.chdir('/content/drive/MyDrive/Colab Notebooks/Video Games Rating')"
   ]
  },
  {
   "cell_type": "code",
   "execution_count": 4,
   "metadata": {
    "executionInfo": {
     "elapsed": 2467,
     "status": "ok",
     "timestamp": 1615286555058,
     "user": {
      "displayName": "mitch rebello",
      "photoUrl": "",
      "userId": "11660763223379711488"
     },
     "user_tz": -330
    },
    "id": "dvFqWA53UuhT"
   },
   "outputs": [],
   "source": [
    "video_game = pd.read_csv('Video_games_esrb_rating.csv')"
   ]
  },
  {
   "cell_type": "code",
   "execution_count": 5,
   "metadata": {
    "colab": {
     "base_uri": "https://localhost:8080/",
     "height": 266
    },
    "executionInfo": {
     "elapsed": 2461,
     "status": "ok",
     "timestamp": 1615286555059,
     "user": {
      "displayName": "mitch rebello",
      "photoUrl": "",
      "userId": "11660763223379711488"
     },
     "user_tz": -330
    },
    "id": "tJyj2VYSVecw",
    "outputId": "d590f062-2990-4fe9-f092-7f719492c014"
   },
   "outputs": [
    {
     "data": {
      "text/html": [
       "<div>\n",
       "<style scoped>\n",
       "    .dataframe tbody tr th:only-of-type {\n",
       "        vertical-align: middle;\n",
       "    }\n",
       "\n",
       "    .dataframe tbody tr th {\n",
       "        vertical-align: top;\n",
       "    }\n",
       "\n",
       "    .dataframe thead th {\n",
       "        text-align: right;\n",
       "    }\n",
       "</style>\n",
       "<table border=\"1\" class=\"dataframe\">\n",
       "  <thead>\n",
       "    <tr style=\"text-align: right;\">\n",
       "      <th></th>\n",
       "      <th>title</th>\n",
       "      <th>console</th>\n",
       "      <th>alcohol_reference</th>\n",
       "      <th>animated_blood</th>\n",
       "      <th>blood</th>\n",
       "      <th>blood_and_gore</th>\n",
       "      <th>cartoon_violence</th>\n",
       "      <th>crude_humor</th>\n",
       "      <th>drug_reference</th>\n",
       "      <th>fantasy_violence</th>\n",
       "      <th>...</th>\n",
       "      <th>sexual_content</th>\n",
       "      <th>sexual_themes</th>\n",
       "      <th>simulated_gambling</th>\n",
       "      <th>strong_janguage</th>\n",
       "      <th>strong_sexual_content</th>\n",
       "      <th>suggestive_themes</th>\n",
       "      <th>use_of_alcohol</th>\n",
       "      <th>use_of_drugs_and_alcohol</th>\n",
       "      <th>violence</th>\n",
       "      <th>esrb_rating</th>\n",
       "    </tr>\n",
       "  </thead>\n",
       "  <tbody>\n",
       "    <tr>\n",
       "      <th>0</th>\n",
       "      <td>Monster Jam Steel Titans 2</td>\n",
       "      <td>1</td>\n",
       "      <td>0</td>\n",
       "      <td>0</td>\n",
       "      <td>0</td>\n",
       "      <td>0</td>\n",
       "      <td>0</td>\n",
       "      <td>0</td>\n",
       "      <td>0</td>\n",
       "      <td>0</td>\n",
       "      <td>...</td>\n",
       "      <td>0</td>\n",
       "      <td>0</td>\n",
       "      <td>0</td>\n",
       "      <td>0</td>\n",
       "      <td>0</td>\n",
       "      <td>0</td>\n",
       "      <td>0</td>\n",
       "      <td>0</td>\n",
       "      <td>0</td>\n",
       "      <td>E</td>\n",
       "    </tr>\n",
       "    <tr>\n",
       "      <th>1</th>\n",
       "      <td>Subnautica: Below Zero</td>\n",
       "      <td>1</td>\n",
       "      <td>0</td>\n",
       "      <td>1</td>\n",
       "      <td>0</td>\n",
       "      <td>0</td>\n",
       "      <td>0</td>\n",
       "      <td>0</td>\n",
       "      <td>0</td>\n",
       "      <td>0</td>\n",
       "      <td>...</td>\n",
       "      <td>0</td>\n",
       "      <td>0</td>\n",
       "      <td>0</td>\n",
       "      <td>0</td>\n",
       "      <td>0</td>\n",
       "      <td>0</td>\n",
       "      <td>0</td>\n",
       "      <td>0</td>\n",
       "      <td>0</td>\n",
       "      <td>ET</td>\n",
       "    </tr>\n",
       "    <tr>\n",
       "      <th>2</th>\n",
       "      <td>NIER REPLICANT VER.1.22474487139…</td>\n",
       "      <td>1</td>\n",
       "      <td>0</td>\n",
       "      <td>0</td>\n",
       "      <td>1</td>\n",
       "      <td>0</td>\n",
       "      <td>0</td>\n",
       "      <td>0</td>\n",
       "      <td>0</td>\n",
       "      <td>0</td>\n",
       "      <td>...</td>\n",
       "      <td>0</td>\n",
       "      <td>0</td>\n",
       "      <td>0</td>\n",
       "      <td>1</td>\n",
       "      <td>0</td>\n",
       "      <td>1</td>\n",
       "      <td>0</td>\n",
       "      <td>0</td>\n",
       "      <td>0</td>\n",
       "      <td>M</td>\n",
       "    </tr>\n",
       "    <tr>\n",
       "      <th>3</th>\n",
       "      <td>Jamestown+</td>\n",
       "      <td>0</td>\n",
       "      <td>0</td>\n",
       "      <td>0</td>\n",
       "      <td>0</td>\n",
       "      <td>0</td>\n",
       "      <td>0</td>\n",
       "      <td>0</td>\n",
       "      <td>0</td>\n",
       "      <td>1</td>\n",
       "      <td>...</td>\n",
       "      <td>0</td>\n",
       "      <td>0</td>\n",
       "      <td>0</td>\n",
       "      <td>0</td>\n",
       "      <td>0</td>\n",
       "      <td>0</td>\n",
       "      <td>0</td>\n",
       "      <td>0</td>\n",
       "      <td>0</td>\n",
       "      <td>ET</td>\n",
       "    </tr>\n",
       "    <tr>\n",
       "      <th>4</th>\n",
       "      <td>Neptunia Virtual Stars</td>\n",
       "      <td>0</td>\n",
       "      <td>0</td>\n",
       "      <td>0</td>\n",
       "      <td>0</td>\n",
       "      <td>0</td>\n",
       "      <td>0</td>\n",
       "      <td>0</td>\n",
       "      <td>0</td>\n",
       "      <td>1</td>\n",
       "      <td>...</td>\n",
       "      <td>0</td>\n",
       "      <td>0</td>\n",
       "      <td>0</td>\n",
       "      <td>0</td>\n",
       "      <td>0</td>\n",
       "      <td>1</td>\n",
       "      <td>0</td>\n",
       "      <td>0</td>\n",
       "      <td>0</td>\n",
       "      <td>T</td>\n",
       "    </tr>\n",
       "  </tbody>\n",
       "</table>\n",
       "<p>5 rows × 34 columns</p>\n",
       "</div>"
      ],
      "text/plain": [
       "                               title  console  alcohol_reference  \\\n",
       "0         Monster Jam Steel Titans 2        1                  0   \n",
       "1             Subnautica: Below Zero        1                  0   \n",
       "2  NIER REPLICANT VER.1.22474487139…        1                  0   \n",
       "3                         Jamestown+        0                  0   \n",
       "4             Neptunia Virtual Stars        0                  0   \n",
       "\n",
       "   animated_blood  blood  blood_and_gore  cartoon_violence  crude_humor  \\\n",
       "0               0      0               0                 0            0   \n",
       "1               1      0               0                 0            0   \n",
       "2               0      1               0                 0            0   \n",
       "3               0      0               0                 0            0   \n",
       "4               0      0               0                 0            0   \n",
       "\n",
       "   drug_reference  fantasy_violence  ...  sexual_content  sexual_themes  \\\n",
       "0               0                 0  ...               0              0   \n",
       "1               0                 0  ...               0              0   \n",
       "2               0                 0  ...               0              0   \n",
       "3               0                 1  ...               0              0   \n",
       "4               0                 1  ...               0              0   \n",
       "\n",
       "   simulated_gambling  strong_janguage  strong_sexual_content  \\\n",
       "0                   0                0                      0   \n",
       "1                   0                0                      0   \n",
       "2                   0                1                      0   \n",
       "3                   0                0                      0   \n",
       "4                   0                0                      0   \n",
       "\n",
       "   suggestive_themes  use_of_alcohol  use_of_drugs_and_alcohol  violence  \\\n",
       "0                  0               0                         0         0   \n",
       "1                  0               0                         0         0   \n",
       "2                  1               0                         0         0   \n",
       "3                  0               0                         0         0   \n",
       "4                  1               0                         0         0   \n",
       "\n",
       "   esrb_rating  \n",
       "0            E  \n",
       "1           ET  \n",
       "2            M  \n",
       "3           ET  \n",
       "4            T  \n",
       "\n",
       "[5 rows x 34 columns]"
      ]
     },
     "execution_count": 5,
     "metadata": {},
     "output_type": "execute_result"
    }
   ],
   "source": [
    "video_game.head()"
   ]
  },
  {
   "cell_type": "code",
   "execution_count": 6,
   "metadata": {
    "executionInfo": {
     "elapsed": 2454,
     "status": "ok",
     "timestamp": 1615286555060,
     "user": {
      "displayName": "mitch rebello",
      "photoUrl": "",
      "userId": "11660763223379711488"
     },
     "user_tz": -330
    },
    "id": "029sLEgIVm-Y"
   },
   "outputs": [],
   "source": [
    "test_data = pd.read_csv('test_esrb.csv')"
   ]
  },
  {
   "cell_type": "code",
   "execution_count": 7,
   "metadata": {
    "colab": {
     "base_uri": "https://localhost:8080/"
    },
    "executionInfo": {
     "elapsed": 2447,
     "status": "ok",
     "timestamp": 1615286555061,
     "user": {
      "displayName": "mitch rebello",
      "photoUrl": "",
      "userId": "11660763223379711488"
     },
     "user_tz": -330
    },
    "id": "U8tUdyG_WakB",
    "outputId": "a060f6dc-f18d-4e8a-9445-18544db1c1b2"
   },
   "outputs": [
    {
     "data": {
      "text/plain": [
       "array(['E', 'ET', 'M', 'T'], dtype=object)"
      ]
     },
     "execution_count": 7,
     "metadata": {},
     "output_type": "execute_result"
    }
   ],
   "source": [
    "video_game.esrb_rating.unique()"
   ]
  },
  {
   "cell_type": "code",
   "execution_count": 8,
   "metadata": {
    "executionInfo": {
     "elapsed": 2443,
     "status": "ok",
     "timestamp": 1615286555063,
     "user": {
      "displayName": "mitch rebello",
      "photoUrl": "",
      "userId": "11660763223379711488"
     },
     "user_tz": -330
    },
    "id": "k3EL6_32Wdrx"
   },
   "outputs": [],
   "source": [
    "# video_game['esrb_rating'] = video_game.esrb_rating.map({'RP':0,'EC':1,'E':2,'E 10+':3,'ET':4,'T':5,'M':6,'A':7})"
   ]
  },
  {
   "cell_type": "code",
   "execution_count": 9,
   "metadata": {
    "colab": {
     "base_uri": "https://localhost:8080/",
     "height": 489
    },
    "executionInfo": {
     "elapsed": 2435,
     "status": "ok",
     "timestamp": 1615286555063,
     "user": {
      "displayName": "mitch rebello",
      "photoUrl": "",
      "userId": "11660763223379711488"
     },
     "user_tz": -330
    },
    "id": "1jMVNaAcZBeR",
    "outputId": "f54d165e-6e14-41b6-b55b-41c009c4ac82"
   },
   "outputs": [
    {
     "data": {
      "text/html": [
       "<div>\n",
       "<style scoped>\n",
       "    .dataframe tbody tr th:only-of-type {\n",
       "        vertical-align: middle;\n",
       "    }\n",
       "\n",
       "    .dataframe tbody tr th {\n",
       "        vertical-align: top;\n",
       "    }\n",
       "\n",
       "    .dataframe thead th {\n",
       "        text-align: right;\n",
       "    }\n",
       "</style>\n",
       "<table border=\"1\" class=\"dataframe\">\n",
       "  <thead>\n",
       "    <tr style=\"text-align: right;\">\n",
       "      <th></th>\n",
       "      <th>title</th>\n",
       "      <th>console</th>\n",
       "      <th>alcohol_reference</th>\n",
       "      <th>animated_blood</th>\n",
       "      <th>blood</th>\n",
       "      <th>blood_and_gore</th>\n",
       "      <th>cartoon_violence</th>\n",
       "      <th>crude_humor</th>\n",
       "      <th>drug_reference</th>\n",
       "      <th>fantasy_violence</th>\n",
       "      <th>...</th>\n",
       "      <th>sexual_content</th>\n",
       "      <th>sexual_themes</th>\n",
       "      <th>simulated_gambling</th>\n",
       "      <th>strong_janguage</th>\n",
       "      <th>strong_sexual_content</th>\n",
       "      <th>suggestive_themes</th>\n",
       "      <th>use_of_alcohol</th>\n",
       "      <th>use_of_drugs_and_alcohol</th>\n",
       "      <th>violence</th>\n",
       "      <th>esrb_rating</th>\n",
       "    </tr>\n",
       "  </thead>\n",
       "  <tbody>\n",
       "    <tr>\n",
       "      <th>0</th>\n",
       "      <td>Monster Jam Steel Titans 2</td>\n",
       "      <td>1</td>\n",
       "      <td>0</td>\n",
       "      <td>0</td>\n",
       "      <td>0</td>\n",
       "      <td>0</td>\n",
       "      <td>0</td>\n",
       "      <td>0</td>\n",
       "      <td>0</td>\n",
       "      <td>0</td>\n",
       "      <td>...</td>\n",
       "      <td>0</td>\n",
       "      <td>0</td>\n",
       "      <td>0</td>\n",
       "      <td>0</td>\n",
       "      <td>0</td>\n",
       "      <td>0</td>\n",
       "      <td>0</td>\n",
       "      <td>0</td>\n",
       "      <td>0</td>\n",
       "      <td>E</td>\n",
       "    </tr>\n",
       "    <tr>\n",
       "      <th>1</th>\n",
       "      <td>Subnautica: Below Zero</td>\n",
       "      <td>1</td>\n",
       "      <td>0</td>\n",
       "      <td>1</td>\n",
       "      <td>0</td>\n",
       "      <td>0</td>\n",
       "      <td>0</td>\n",
       "      <td>0</td>\n",
       "      <td>0</td>\n",
       "      <td>0</td>\n",
       "      <td>...</td>\n",
       "      <td>0</td>\n",
       "      <td>0</td>\n",
       "      <td>0</td>\n",
       "      <td>0</td>\n",
       "      <td>0</td>\n",
       "      <td>0</td>\n",
       "      <td>0</td>\n",
       "      <td>0</td>\n",
       "      <td>0</td>\n",
       "      <td>ET</td>\n",
       "    </tr>\n",
       "    <tr>\n",
       "      <th>2</th>\n",
       "      <td>NIER REPLICANT VER.1.22474487139…</td>\n",
       "      <td>1</td>\n",
       "      <td>0</td>\n",
       "      <td>0</td>\n",
       "      <td>1</td>\n",
       "      <td>0</td>\n",
       "      <td>0</td>\n",
       "      <td>0</td>\n",
       "      <td>0</td>\n",
       "      <td>0</td>\n",
       "      <td>...</td>\n",
       "      <td>0</td>\n",
       "      <td>0</td>\n",
       "      <td>0</td>\n",
       "      <td>1</td>\n",
       "      <td>0</td>\n",
       "      <td>1</td>\n",
       "      <td>0</td>\n",
       "      <td>0</td>\n",
       "      <td>0</td>\n",
       "      <td>M</td>\n",
       "    </tr>\n",
       "    <tr>\n",
       "      <th>3</th>\n",
       "      <td>Jamestown+</td>\n",
       "      <td>0</td>\n",
       "      <td>0</td>\n",
       "      <td>0</td>\n",
       "      <td>0</td>\n",
       "      <td>0</td>\n",
       "      <td>0</td>\n",
       "      <td>0</td>\n",
       "      <td>0</td>\n",
       "      <td>1</td>\n",
       "      <td>...</td>\n",
       "      <td>0</td>\n",
       "      <td>0</td>\n",
       "      <td>0</td>\n",
       "      <td>0</td>\n",
       "      <td>0</td>\n",
       "      <td>0</td>\n",
       "      <td>0</td>\n",
       "      <td>0</td>\n",
       "      <td>0</td>\n",
       "      <td>ET</td>\n",
       "    </tr>\n",
       "    <tr>\n",
       "      <th>4</th>\n",
       "      <td>Neptunia Virtual Stars</td>\n",
       "      <td>0</td>\n",
       "      <td>0</td>\n",
       "      <td>0</td>\n",
       "      <td>0</td>\n",
       "      <td>0</td>\n",
       "      <td>0</td>\n",
       "      <td>0</td>\n",
       "      <td>0</td>\n",
       "      <td>1</td>\n",
       "      <td>...</td>\n",
       "      <td>0</td>\n",
       "      <td>0</td>\n",
       "      <td>0</td>\n",
       "      <td>0</td>\n",
       "      <td>0</td>\n",
       "      <td>1</td>\n",
       "      <td>0</td>\n",
       "      <td>0</td>\n",
       "      <td>0</td>\n",
       "      <td>T</td>\n",
       "    </tr>\n",
       "    <tr>\n",
       "      <th>...</th>\n",
       "      <td>...</td>\n",
       "      <td>...</td>\n",
       "      <td>...</td>\n",
       "      <td>...</td>\n",
       "      <td>...</td>\n",
       "      <td>...</td>\n",
       "      <td>...</td>\n",
       "      <td>...</td>\n",
       "      <td>...</td>\n",
       "      <td>...</td>\n",
       "      <td>...</td>\n",
       "      <td>...</td>\n",
       "      <td>...</td>\n",
       "      <td>...</td>\n",
       "      <td>...</td>\n",
       "      <td>...</td>\n",
       "      <td>...</td>\n",
       "      <td>...</td>\n",
       "      <td>...</td>\n",
       "      <td>...</td>\n",
       "      <td>...</td>\n",
       "    </tr>\n",
       "    <tr>\n",
       "      <th>1890</th>\n",
       "      <td>SENRAN KAGURA Peach Beach Splash</td>\n",
       "      <td>0</td>\n",
       "      <td>0</td>\n",
       "      <td>0</td>\n",
       "      <td>0</td>\n",
       "      <td>0</td>\n",
       "      <td>0</td>\n",
       "      <td>0</td>\n",
       "      <td>0</td>\n",
       "      <td>1</td>\n",
       "      <td>...</td>\n",
       "      <td>1</td>\n",
       "      <td>1</td>\n",
       "      <td>0</td>\n",
       "      <td>1</td>\n",
       "      <td>0</td>\n",
       "      <td>0</td>\n",
       "      <td>0</td>\n",
       "      <td>0</td>\n",
       "      <td>0</td>\n",
       "      <td>M</td>\n",
       "    </tr>\n",
       "    <tr>\n",
       "      <th>1891</th>\n",
       "      <td>Sneaky Bears</td>\n",
       "      <td>0</td>\n",
       "      <td>0</td>\n",
       "      <td>0</td>\n",
       "      <td>0</td>\n",
       "      <td>0</td>\n",
       "      <td>0</td>\n",
       "      <td>0</td>\n",
       "      <td>0</td>\n",
       "      <td>1</td>\n",
       "      <td>...</td>\n",
       "      <td>0</td>\n",
       "      <td>0</td>\n",
       "      <td>0</td>\n",
       "      <td>0</td>\n",
       "      <td>0</td>\n",
       "      <td>0</td>\n",
       "      <td>0</td>\n",
       "      <td>0</td>\n",
       "      <td>0</td>\n",
       "      <td>T</td>\n",
       "    </tr>\n",
       "    <tr>\n",
       "      <th>1892</th>\n",
       "      <td>SPARC</td>\n",
       "      <td>0</td>\n",
       "      <td>0</td>\n",
       "      <td>0</td>\n",
       "      <td>0</td>\n",
       "      <td>0</td>\n",
       "      <td>0</td>\n",
       "      <td>0</td>\n",
       "      <td>0</td>\n",
       "      <td>0</td>\n",
       "      <td>...</td>\n",
       "      <td>0</td>\n",
       "      <td>0</td>\n",
       "      <td>0</td>\n",
       "      <td>0</td>\n",
       "      <td>0</td>\n",
       "      <td>0</td>\n",
       "      <td>0</td>\n",
       "      <td>0</td>\n",
       "      <td>0</td>\n",
       "      <td>E</td>\n",
       "    </tr>\n",
       "    <tr>\n",
       "      <th>1893</th>\n",
       "      <td>Still Time</td>\n",
       "      <td>0</td>\n",
       "      <td>0</td>\n",
       "      <td>0</td>\n",
       "      <td>1</td>\n",
       "      <td>0</td>\n",
       "      <td>0</td>\n",
       "      <td>0</td>\n",
       "      <td>0</td>\n",
       "      <td>0</td>\n",
       "      <td>...</td>\n",
       "      <td>0</td>\n",
       "      <td>0</td>\n",
       "      <td>0</td>\n",
       "      <td>0</td>\n",
       "      <td>0</td>\n",
       "      <td>0</td>\n",
       "      <td>0</td>\n",
       "      <td>0</td>\n",
       "      <td>0</td>\n",
       "      <td>T</td>\n",
       "    </tr>\n",
       "    <tr>\n",
       "      <th>1894</th>\n",
       "      <td>Surf World Series</td>\n",
       "      <td>1</td>\n",
       "      <td>0</td>\n",
       "      <td>0</td>\n",
       "      <td>0</td>\n",
       "      <td>0</td>\n",
       "      <td>0</td>\n",
       "      <td>0</td>\n",
       "      <td>0</td>\n",
       "      <td>0</td>\n",
       "      <td>...</td>\n",
       "      <td>0</td>\n",
       "      <td>0</td>\n",
       "      <td>0</td>\n",
       "      <td>0</td>\n",
       "      <td>0</td>\n",
       "      <td>0</td>\n",
       "      <td>0</td>\n",
       "      <td>0</td>\n",
       "      <td>0</td>\n",
       "      <td>E</td>\n",
       "    </tr>\n",
       "  </tbody>\n",
       "</table>\n",
       "<p>1895 rows × 34 columns</p>\n",
       "</div>"
      ],
      "text/plain": [
       "                                  title  console  alcohol_reference  \\\n",
       "0            Monster Jam Steel Titans 2        1                  0   \n",
       "1                Subnautica: Below Zero        1                  0   \n",
       "2     NIER REPLICANT VER.1.22474487139…        1                  0   \n",
       "3                            Jamestown+        0                  0   \n",
       "4                Neptunia Virtual Stars        0                  0   \n",
       "...                                 ...      ...                ...   \n",
       "1890   SENRAN KAGURA Peach Beach Splash        0                  0   \n",
       "1891                       Sneaky Bears        0                  0   \n",
       "1892                              SPARC        0                  0   \n",
       "1893                         Still Time        0                  0   \n",
       "1894                  Surf World Series        1                  0   \n",
       "\n",
       "      animated_blood  blood  blood_and_gore  cartoon_violence  crude_humor  \\\n",
       "0                  0      0               0                 0            0   \n",
       "1                  1      0               0                 0            0   \n",
       "2                  0      1               0                 0            0   \n",
       "3                  0      0               0                 0            0   \n",
       "4                  0      0               0                 0            0   \n",
       "...              ...    ...             ...               ...          ...   \n",
       "1890               0      0               0                 0            0   \n",
       "1891               0      0               0                 0            0   \n",
       "1892               0      0               0                 0            0   \n",
       "1893               0      1               0                 0            0   \n",
       "1894               0      0               0                 0            0   \n",
       "\n",
       "      drug_reference  fantasy_violence  ...  sexual_content  sexual_themes  \\\n",
       "0                  0                 0  ...               0              0   \n",
       "1                  0                 0  ...               0              0   \n",
       "2                  0                 0  ...               0              0   \n",
       "3                  0                 1  ...               0              0   \n",
       "4                  0                 1  ...               0              0   \n",
       "...              ...               ...  ...             ...            ...   \n",
       "1890               0                 1  ...               1              1   \n",
       "1891               0                 1  ...               0              0   \n",
       "1892               0                 0  ...               0              0   \n",
       "1893               0                 0  ...               0              0   \n",
       "1894               0                 0  ...               0              0   \n",
       "\n",
       "      simulated_gambling  strong_janguage  strong_sexual_content  \\\n",
       "0                      0                0                      0   \n",
       "1                      0                0                      0   \n",
       "2                      0                1                      0   \n",
       "3                      0                0                      0   \n",
       "4                      0                0                      0   \n",
       "...                  ...              ...                    ...   \n",
       "1890                   0                1                      0   \n",
       "1891                   0                0                      0   \n",
       "1892                   0                0                      0   \n",
       "1893                   0                0                      0   \n",
       "1894                   0                0                      0   \n",
       "\n",
       "      suggestive_themes  use_of_alcohol  use_of_drugs_and_alcohol  violence  \\\n",
       "0                     0               0                         0         0   \n",
       "1                     0               0                         0         0   \n",
       "2                     1               0                         0         0   \n",
       "3                     0               0                         0         0   \n",
       "4                     1               0                         0         0   \n",
       "...                 ...             ...                       ...       ...   \n",
       "1890                  0               0                         0         0   \n",
       "1891                  0               0                         0         0   \n",
       "1892                  0               0                         0         0   \n",
       "1893                  0               0                         0         0   \n",
       "1894                  0               0                         0         0   \n",
       "\n",
       "      esrb_rating  \n",
       "0               E  \n",
       "1              ET  \n",
       "2               M  \n",
       "3              ET  \n",
       "4               T  \n",
       "...           ...  \n",
       "1890            M  \n",
       "1891            T  \n",
       "1892            E  \n",
       "1893            T  \n",
       "1894            E  \n",
       "\n",
       "[1895 rows x 34 columns]"
      ]
     },
     "execution_count": 9,
     "metadata": {},
     "output_type": "execute_result"
    }
   ],
   "source": [
    "video_game"
   ]
  },
  {
   "cell_type": "code",
   "execution_count": 10,
   "metadata": {
    "colab": {
     "base_uri": "https://localhost:8080/"
    },
    "executionInfo": {
     "elapsed": 2427,
     "status": "ok",
     "timestamp": 1615286555064,
     "user": {
      "displayName": "mitch rebello",
      "photoUrl": "",
      "userId": "11660763223379711488"
     },
     "user_tz": -330
    },
    "id": "8lpMytt_nOql",
    "outputId": "e4af435c-04a8-47c3-fffb-69d0835878ac"
   },
   "outputs": [
    {
     "data": {
      "text/plain": [
       "title                       0\n",
       "console                     0\n",
       "alcohol_reference           0\n",
       "animated_blood              0\n",
       "blood                       0\n",
       "blood_and_gore              0\n",
       "cartoon_violence            0\n",
       "crude_humor                 0\n",
       "drug_reference              0\n",
       "fantasy_violence            0\n",
       "intense_violence            0\n",
       "language                    0\n",
       "lyrics                      0\n",
       "mature_humor                0\n",
       "mild_blood                  0\n",
       "mild_cartoon_violence       0\n",
       "mild_fantasy_violence       0\n",
       "mild_language               0\n",
       "mild_lyrics                 0\n",
       "mild_suggestive_themes      0\n",
       "mild_violence               0\n",
       "no_descriptors              0\n",
       "nudity                      0\n",
       "partial_nudity              0\n",
       "sexual_content              0\n",
       "sexual_themes               0\n",
       "simulated_gambling          0\n",
       "strong_janguage             0\n",
       "strong_sexual_content       0\n",
       "suggestive_themes           0\n",
       "use_of_alcohol              0\n",
       "use_of_drugs_and_alcohol    0\n",
       "violence                    0\n",
       "esrb_rating                 0\n",
       "dtype: int64"
      ]
     },
     "execution_count": 10,
     "metadata": {},
     "output_type": "execute_result"
    }
   ],
   "source": [
    "video_game.isnull().sum()"
   ]
  },
  {
   "cell_type": "code",
   "execution_count": 11,
   "metadata": {
    "colab": {
     "base_uri": "https://localhost:8080/",
     "height": 662
    },
    "executionInfo": {
     "elapsed": 4023,
     "status": "ok",
     "timestamp": 1615286556670,
     "user": {
      "displayName": "mitch rebello",
      "photoUrl": "",
      "userId": "11660763223379711488"
     },
     "user_tz": -330
    },
    "id": "kbg-tUdYJo76",
    "outputId": "ae75a959-87a0-4347-94ea-1a72c8ebe9c6"
   },
   "outputs": [
    {
     "data": {
      "image/png": "[encoded data removed]",
      "text/plain": [
       "<Figure size 1080x648 with 2 Axes>"
      ]
     },
     "metadata": {
      "needs_background": "light"
     },
     "output_type": "display_data"
    }
   ],
   "source": [
    "import seaborn as sns\n",
    "import matplotlib.pyplot as plt\n",
    "heat_m = video_game.esrb_rating.map({'RP':0,'EC':1,'E':2,'E 10+':3,'ET':4,'T':5,'M':6,'A':7})\n",
    "heatdf = video_game.drop('esrb_rating',axis=1)\n",
    "heatdf['esrb_rating'] = heat_m\n",
    "plt.figure(figsize = [15,9])\n",
    "sns.heatmap(heatdf.corr())\n",
    "plt.show()"
   ]
  },
  {
   "cell_type": "code",
   "execution_count": 12,
   "metadata": {
    "executionInfo": {
     "elapsed": 4016,
     "status": "ok",
     "timestamp": 1615286556671,
     "user": {
      "displayName": "mitch rebello",
      "photoUrl": "",
      "userId": "11660763223379711488"
     },
     "user_tz": -330
    },
    "id": "p_n2iGq2pBII"
   },
   "outputs": [],
   "source": [
    "from sklearn.model_selection import train_test_split"
   ]
  },
  {
   "cell_type": "code",
   "execution_count": 13,
   "metadata": {
    "executionInfo": {
     "elapsed": 4013,
     "status": "ok",
     "timestamp": 1615286556672,
     "user": {
      "displayName": "mitch rebello",
      "photoUrl": "",
      "userId": "11660763223379711488"
     },
     "user_tz": -330
    },
    "id": "F6p78NMPJmsS"
   },
   "outputs": [],
   "source": [
    "video_game = video_game.drop(['title','no_descriptors','mild_fantasy_violence'],axis=1)"
   ]
  },
  {
   "cell_type": "code",
   "execution_count": 14,
   "metadata": {
    "executionInfo": {
     "elapsed": 4010,
     "status": "ok",
     "timestamp": 1615286556673,
     "user": {
      "displayName": "mitch rebello",
      "photoUrl": "",
      "userId": "11660763223379711488"
     },
     "user_tz": -330
    },
    "id": "cvUJHHIapC39"
   },
   "outputs": [],
   "source": [
    "x = video_game.iloc[:,:-1]\n",
    "y = video_game.iloc[:,-1]"
   ]
  },
  {
   "cell_type": "code",
   "execution_count": 15,
   "metadata": {
    "executionInfo": {
     "elapsed": 4008,
     "status": "ok",
     "timestamp": 1615286556675,
     "user": {
      "displayName": "mitch rebello",
      "photoUrl": "",
      "userId": "11660763223379711488"
     },
     "user_tz": -330
    },
    "id": "Kt_Qw2lxpC1T"
   },
   "outputs": [],
   "source": [
    "xtrain,xtest,ytrain,ytest = train_test_split(x,y,test_size =0.2,random_state = 0)"
   ]
  },
  {
   "cell_type": "markdown",
   "metadata": {},
   "source": [
    "## prediction models"
   ]
  },
  {
   "cell_type": "markdown",
   "metadata": {
    "id": "H9jI84Yxnr7z"
   },
   "source": [
    "### Using Decision Tree"
   ]
  },
  {
   "cell_type": "code",
   "execution_count": 16,
   "metadata": {
    "executionInfo": {
     "elapsed": 3995,
     "status": "ok",
     "timestamp": 1615286556677,
     "user": {
      "displayName": "mitch rebello",
      "photoUrl": "",
      "userId": "11660763223379711488"
     },
     "user_tz": -330
    },
    "id": "rIt6ZZB-ZFQo"
   },
   "outputs": [],
   "source": [
    "from sklearn.tree import DecisionTreeClassifier,plot_tree"
   ]
  },
  {
   "cell_type": "code",
   "execution_count": 17,
   "metadata": {
    "executionInfo": {
     "elapsed": 3992,
     "status": "ok",
     "timestamp": 1615286556678,
     "user": {
      "displayName": "mitch rebello",
      "photoUrl": "",
      "userId": "11660763223379711488"
     },
     "user_tz": -330
    },
    "id": "cpyxjSQ8a3ll"
   },
   "outputs": [],
   "source": [
    "DC = DecisionTreeClassifier(criterion = 'entropy')"
   ]
  },
  {
   "cell_type": "code",
   "execution_count": 18,
   "metadata": {
    "colab": {
     "base_uri": "https://localhost:8080/"
    },
    "executionInfo": {
     "elapsed": 3987,
     "status": "ok",
     "timestamp": 1615286556679,
     "user": {
      "displayName": "mitch rebello",
      "photoUrl": "",
      "userId": "11660763223379711488"
     },
     "user_tz": -330
    },
    "id": "OxSMfq7zpX7-",
    "outputId": "48e106e1-3f55-4464-fe97-dcdc8e274959"
   },
   "outputs": [
    {
     "data": {
      "text/plain": [
       "DecisionTreeClassifier(criterion='entropy')"
      ]
     },
     "execution_count": 18,
     "metadata": {},
     "output_type": "execute_result"
    }
   ],
   "source": [
    "DC.fit(xtrain,ytrain)"
   ]
  },
  {
   "cell_type": "code",
   "execution_count": 19,
   "metadata": {
    "executionInfo": {
     "elapsed": 3983,
     "status": "ok",
     "timestamp": 1615286556680,
     "user": {
      "displayName": "mitch rebello",
      "photoUrl": "",
      "userId": "11660763223379711488"
     },
     "user_tz": -330
    },
    "id": "A0ZktXC4gWlZ"
   },
   "outputs": [],
   "source": [
    "Y_pred = DC.predict(xtest)"
   ]
  },
  {
   "cell_type": "code",
   "execution_count": 20,
   "metadata": {
    "colab": {
     "base_uri": "https://localhost:8080/"
    },
    "executionInfo": {
     "elapsed": 3978,
     "status": "ok",
     "timestamp": 1615286556680,
     "user": {
      "displayName": "mitch rebello",
      "photoUrl": "",
      "userId": "11660763223379711488"
     },
     "user_tz": -330
    },
    "id": "-6ohAFoHda34",
    "outputId": "471aa06c-fbaa-4a05-afe6-c30375cc5da7"
   },
   "outputs": [
    {
     "data": {
      "text/plain": [
       "0.847"
      ]
     },
     "execution_count": 20,
     "metadata": {},
     "output_type": "execute_result"
    }
   ],
   "source": [
    "from sklearn.metrics import accuracy_score\n",
    "round(accuracy_score(ytest,Y_pred),4)"
   ]
  },
  {
   "cell_type": "markdown",
   "metadata": {
    "id": "uiCEmIObo550"
   },
   "source": [
    "### Using Multinomial Naive Bayes"
   ]
  },
  {
   "cell_type": "code",
   "execution_count": 21,
   "metadata": {
    "executionInfo": {
     "elapsed": 3974,
     "status": "ok",
     "timestamp": 1615286556681,
     "user": {
      "displayName": "mitch rebello",
      "photoUrl": "",
      "userId": "11660763223379711488"
     },
     "user_tz": -330
    },
    "id": "AR8LVn7alPR5"
   },
   "outputs": [],
   "source": [
    "from sklearn.naive_bayes import MultinomialNB\n",
    "MNB = MultinomialNB()"
   ]
  },
  {
   "cell_type": "code",
   "execution_count": 22,
   "metadata": {
    "executionInfo": {
     "elapsed": 3970,
     "status": "ok",
     "timestamp": 1615286556682,
     "user": {
      "displayName": "mitch rebello",
      "photoUrl": "",
      "userId": "11660763223379711488"
     },
     "user_tz": -330
    },
    "id": "tNmcu83PoSz1"
   },
   "outputs": [],
   "source": [
    "MNB.fit(xtrain,ytrain)\n",
    "y_pred = MNB.predict(xtest)"
   ]
  },
  {
   "cell_type": "code",
   "execution_count": 23,
   "metadata": {
    "colab": {
     "base_uri": "https://localhost:8080/"
    },
    "executionInfo": {
     "elapsed": 3967,
     "status": "ok",
     "timestamp": 1615286556683,
     "user": {
      "displayName": "mitch rebello",
      "photoUrl": "",
      "userId": "11660763223379711488"
     },
     "user_tz": -330
    },
    "id": "qwRASXD_od4C",
    "outputId": "32f0d3b8-3282-46e8-b73d-ff7b9e23fff9"
   },
   "outputs": [
    {
     "data": {
      "text/plain": [
       "0.847"
      ]
     },
     "execution_count": 23,
     "metadata": {},
     "output_type": "execute_result"
    }
   ],
   "source": [
    "round(accuracy_score(ytest,Y_pred),4)"
   ]
  },
  {
   "cell_type": "markdown",
   "metadata": {
    "id": "XjDpdCHavOo8"
   },
   "source": [
    "### Using Random Forest Classifier\n"
   ]
  },
  {
   "cell_type": "code",
   "execution_count": 24,
   "metadata": {
    "executionInfo": {
     "elapsed": 3963,
     "status": "ok",
     "timestamp": 1615286556683,
     "user": {
      "displayName": "mitch rebello",
      "photoUrl": "",
      "userId": "11660763223379711488"
     },
     "user_tz": -330
    },
    "id": "XNhU1f3lp6R8"
   },
   "outputs": [],
   "source": [
    "from sklearn.ensemble import RandomForestClassifier\n",
    "RFC = RandomForestClassifier()"
   ]
  },
  {
   "cell_type": "code",
   "execution_count": 25,
   "metadata": {
    "colab": {
     "base_uri": "https://localhost:8080/"
    },
    "executionInfo": {
     "elapsed": 3960,
     "status": "ok",
     "timestamp": 1615286556684,
     "user": {
      "displayName": "mitch rebello",
      "photoUrl": "",
      "userId": "11660763223379711488"
     },
     "user_tz": -330
    },
    "id": "Phzxzbbcvofb",
    "outputId": "e8602a20-b17c-4a1c-baad-2bee23322f79"
   },
   "outputs": [
    {
     "data": {
      "text/plain": [
       "RandomForestClassifier()"
      ]
     },
     "execution_count": 25,
     "metadata": {},
     "output_type": "execute_result"
    }
   ],
   "source": [
    " RFC.fit(xtrain,ytrain)"
   ]
  },
  {
   "cell_type": "code",
   "execution_count": 26,
   "metadata": {
    "executionInfo": {
     "elapsed": 3954,
     "status": "ok",
     "timestamp": 1615286556684,
     "user": {
      "displayName": "mitch rebello",
      "photoUrl": "",
      "userId": "11660763223379711488"
     },
     "user_tz": -330
    },
    "id": "ToaxXIBSv5tS"
   },
   "outputs": [],
   "source": [
    "y_pred = RFC.predict(xtest)"
   ]
  },
  {
   "cell_type": "code",
   "execution_count": 27,
   "metadata": {
    "colab": {
     "base_uri": "https://localhost:8080/"
    },
    "executionInfo": {
     "elapsed": 3951,
     "status": "ok",
     "timestamp": 1615286556685,
     "user": {
      "displayName": "mitch rebello",
      "photoUrl": "",
      "userId": "11660763223379711488"
     },
     "user_tz": -330
    },
    "id": "93ozIy1PwAsb",
    "outputId": "a18a2db1-79ce-4705-c321-4030006fac36"
   },
   "outputs": [
    {
     "data": {
      "text/plain": [
       "0.8522"
      ]
     },
     "execution_count": 27,
     "metadata": {},
     "output_type": "execute_result"
    }
   ],
   "source": [
    "round(accuracy_score(ytest,y_pred),4)"
   ]
  },
  {
   "cell_type": "markdown",
   "metadata": {
    "id": "fdYcpZCj-bkX"
   },
   "source": [
    "## Using Random forest Classifier on test data"
   ]
  },
  {
   "cell_type": "code",
   "execution_count": 28,
   "metadata": {
    "executionInfo": {
     "elapsed": 3948,
     "status": "ok",
     "timestamp": 1615286556686,
     "user": {
      "displayName": "mitch rebello",
      "photoUrl": "",
      "userId": "11660763223379711488"
     },
     "user_tz": -330
    },
    "id": "N1BmROnU-GHS"
   },
   "outputs": [],
   "source": [
    "X_TEST = test_data.drop(['esrb_rating','title','no_descriptors','mild_fantasy_violence'],axis=1)\n",
    "y_TEST = test_data.esrb_rating"
   ]
  },
  {
   "cell_type": "code",
   "execution_count": 29,
   "metadata": {
    "colab": {
     "base_uri": "https://localhost:8080/"
    },
    "executionInfo": {
     "elapsed": 3942,
     "status": "ok",
     "timestamp": 1615286556687,
     "user": {
      "displayName": "mitch rebello",
      "photoUrl": "",
      "userId": "11660763223379711488"
     },
     "user_tz": -330
    },
    "id": "USLRlepaCqis",
    "outputId": "9ac63db5-d256-4df2-889b-932dc951a0b6"
   },
   "outputs": [
    {
     "data": {
      "text/plain": [
       "array(['T', 'E', 'ET', 'M'], dtype=object)"
      ]
     },
     "execution_count": 29,
     "metadata": {},
     "output_type": "execute_result"
    }
   ],
   "source": [
    "y_TEST.unique()"
   ]
  },
  {
   "cell_type": "code",
   "execution_count": 30,
   "metadata": {
    "executionInfo": {
     "elapsed": 3937,
     "status": "ok",
     "timestamp": 1615286556687,
     "user": {
      "displayName": "mitch rebello",
      "photoUrl": "",
      "userId": "11660763223379711488"
     },
     "user_tz": -330
    },
    "id": "UQyZD1cKFSDP"
   },
   "outputs": [],
   "source": [
    "Random_forest = RandomForestClassifier('entropy')"
   ]
  },
  {
   "cell_type": "code",
   "execution_count": 31,
   "metadata": {
    "executionInfo": {
     "elapsed": 3933,
     "status": "ok",
     "timestamp": 1615286556688,
     "user": {
      "displayName": "mitch rebello",
      "photoUrl": "",
      "userId": "11660763223379711488"
     },
     "user_tz": -330
    },
    "id": "kYux8n2-DOzM"
   },
   "outputs": [],
   "source": [
    "from sklearn.model_selection import GridSearchCV\n",
    "params_to_test = {\n",
    "    'n_estimators':[2,3,5,7],\n",
    "}\n",
    "CSV = GridSearchCV(Random_forest,param_grid=params_to_test,cv=10, scoring='f1_macro', n_jobs=4)"
   ]
  },
  {
   "cell_type": "code",
   "execution_count": 32,
   "metadata": {
    "executionInfo": {
     "elapsed": 5923,
     "status": "ok",
     "timestamp": 1615286558685,
     "user": {
      "displayName": "mitch rebello",
      "photoUrl": "",
      "userId": "11660763223379711488"
     },
     "user_tz": -330
    },
    "id": "pDLTEBoK_QWa"
   },
   "outputs": [],
   "source": [
    "CSV.fit(x,y)\n",
    "Y_PRED = CSV.predict(X_TEST)"
   ]
  },
  {
   "cell_type": "code",
   "execution_count": 33,
   "metadata": {
    "colab": {
     "base_uri": "https://localhost:8080/"
    },
    "executionInfo": {
     "elapsed": 5919,
     "status": "ok",
     "timestamp": 1615286558686,
     "user": {
      "displayName": "mitch rebello",
      "photoUrl": "",
      "userId": "11660763223379711488"
     },
     "user_tz": -330
    },
    "id": "KgeDbvTmMYZt",
    "outputId": "6735c84f-d2ca-44c3-e2bb-f1c418b46388"
   },
   "outputs": [
    {
     "data": {
      "text/plain": [
       "0.842"
      ]
     },
     "execution_count": 33,
     "metadata": {},
     "output_type": "execute_result"
    }
   ],
   "source": [
    "accuracy_score(y_TEST,Y_PRED)"
   ]
  },
  {
   "cell_type": "markdown",
   "metadata": {
    "id": "5LH-9E6eoig2"
   },
   "source": [
    "### Confusion matrix"
   ]
  },
  {
   "cell_type": "code",
   "execution_count": 34,
   "metadata": {
    "executionInfo": {
     "elapsed": 5913,
     "status": "ok",
     "timestamp": 1615286558686,
     "user": {
      "displayName": "mitch rebello",
      "photoUrl": "",
      "userId": "11660763223379711488"
     },
     "user_tz": -330
    },
    "id": "BB1WBADMohel"
   },
   "outputs": [],
   "source": [
    "from sklearn.metrics import confusion_matrix\n",
    "tn,fp,fn,tp = confusion_matrix(ytest,y_pred)"
   ]
  },
  {
   "cell_type": "code",
   "execution_count": 35,
   "metadata": {
    "colab": {
     "base_uri": "https://localhost:8080/"
    },
    "executionInfo": {
     "elapsed": 5907,
     "status": "ok",
     "timestamp": 1615286558686,
     "user": {
      "displayName": "mitch rebello",
      "photoUrl": "",
      "userId": "11660763223379711488"
     },
     "user_tz": -330
    },
    "id": "Nj7MgF--ovMK",
    "outputId": "c88baaae-b246-4453-ae46-c56c2bad8588"
   },
   "outputs": [
    {
     "name": "stdout",
     "output_type": "stream",
     "text": [
      "True positive [  1  20  10 100]\n",
      "True Negitive [83  3  0  0]\n",
      "False Positive [ 2 73  0 10]\n",
      "False Negitive [ 0  0 67 10]\n"
     ]
    }
   ],
   "source": [
    "print('True positive',tp)\n",
    "print('True Negitive', tn)\n",
    "print('False Positive', fp)\n",
    "print('False Negitive', fn)"
   ]
  },
  {
   "cell_type": "markdown",
   "metadata": {
    "id": "V3_6dY9DARBX"
   },
   "source": [
    "### Using neural networks for the predictions"
   ]
  },
  {
   "cell_type": "code",
   "execution_count": 36,
   "metadata": {
    "executionInfo": {
     "elapsed": 5902,
     "status": "ok",
     "timestamp": 1615286558687,
     "user": {
      "displayName": "mitch rebello",
      "photoUrl": "",
      "userId": "11660763223379711488"
     },
     "user_tz": -330
    },
    "id": "PI9cwna6CMNL"
   },
   "outputs": [],
   "source": [
    "import tensorflow\n",
    "import keras"
   ]
  },
  {
   "cell_type": "code",
   "execution_count": 37,
   "metadata": {
    "executionInfo": {
     "elapsed": 5898,
     "status": "ok",
     "timestamp": 1615286558687,
     "user": {
      "displayName": "mitch rebello",
      "photoUrl": "",
      "userId": "11660763223379711488"
     },
     "user_tz": -330
    },
    "id": "6PEpkTArWeb9"
   },
   "outputs": [],
   "source": [
    "from sklearn.preprocessing import LabelEncoder\n",
    "le = LabelEncoder()\n",
    "y = le.fit_transform(y)\n",
    "Y_TEST = le.fit_transform(y_TEST)"
   ]
  },
  {
   "cell_type": "code",
   "execution_count": 38,
   "metadata": {
    "colab": {
     "base_uri": "https://localhost:8080/"
    },
    "executionInfo": {
     "elapsed": 5892,
     "status": "ok",
     "timestamp": 1615286558688,
     "user": {
      "displayName": "mitch rebello",
      "photoUrl": "",
      "userId": "11660763223379711488"
     },
     "user_tz": -330
    },
    "id": "QUAgw9WUawRi",
    "outputId": "d71e6bd2-dd83-4ad0-ebb6-a68524300093"
   },
   "outputs": [
    {
     "data": {
      "text/plain": [
       "30"
      ]
     },
     "execution_count": 38,
     "metadata": {},
     "output_type": "execute_result"
    }
   ],
   "source": [
    "len(X_TEST.columns)"
   ]
  },
  {
   "cell_type": "code",
   "execution_count": 48,
   "metadata": {
    "executionInfo": {
     "elapsed": 6236,
     "status": "ok",
     "timestamp": 1615286559037,
     "user": {
      "displayName": "mitch rebello",
      "photoUrl": "",
      "userId": "11660763223379711488"
     },
     "user_tz": -330
    },
    "id": "L4Y--2G_Atc_"
   },
   "outputs": [],
   "source": [
    "keras.backend.clear_session()\n",
    "model = keras.Sequential([\n",
    "                          keras.layers.Dense(200,activation='relu',kernel_initializer='random_normal',input_shape=[30]),\n",
    "                          keras.layers.Dense(100,activation='relu',kernel_initializer='random_normal'),\n",
    "                          keras.layers.Dense(4,activation='softmax')\n",
    "])"
   ]
  },
  {
   "cell_type": "code",
   "execution_count": 49,
   "metadata": {
    "executionInfo": {
     "elapsed": 6232,
     "status": "ok",
     "timestamp": 1615286559038,
     "user": {
      "displayName": "mitch rebello",
      "photoUrl": "",
      "userId": "11660763223379711488"
     },
     "user_tz": -330
    },
    "id": "MkYmRb-xB_0G"
   },
   "outputs": [],
   "source": [
    "model.compile(optimizer='sgd',loss='sparse_categorical_crossentropy',metrics=['accuracy'])"
   ]
  },
  {
   "cell_type": "code",
   "execution_count": 50,
   "metadata": {
    "colab": {
     "base_uri": "https://localhost:8080/"
    },
    "executionInfo": {
     "elapsed": 29982,
     "status": "ok",
     "timestamp": 1615286582795,
     "user": {
      "displayName": "mitch rebello",
      "photoUrl": "",
      "userId": "11660763223379711488"
     },
     "user_tz": -330
    },
    "id": "kkh7rkPCp1uW",
    "outputId": "a04730e1-a5c7-4fe1-e90c-7b43b323adf0"
   },
   "outputs": [
    {
     "data": {
      "text/plain": [
       "<tensorflow.python.keras.callbacks.History at 0x18d9b3094c0>"
      ]
     },
     "execution_count": 50,
     "metadata": {},
     "output_type": "execute_result"
    }
   ],
   "source": [
    "model.fit(x,y,batch_size=32,epochs=200,verbose=0,validation_split=0.2,validation_data=X_TEST)"
   ]
  },
  {
   "cell_type": "code",
   "execution_count": 51,
   "metadata": {
    "colab": {
     "base_uri": "https://localhost:8080/"
    },
    "executionInfo": {
     "elapsed": 29976,
     "status": "ok",
     "timestamp": 1615286582796,
     "user": {
      "displayName": "mitch rebello",
      "photoUrl": "",
      "userId": "11660763223379711488"
     },
     "user_tz": -330
    },
    "id": "rrPsTck7qVzx",
    "outputId": "50c1587a-725e-4252-ddff-3aec93ee59f3"
   },
   "outputs": [
    {
     "name": "stdout",
     "output_type": "stream",
     "text": [
      "16/16 [==============================] - 0s 1ms/step - loss: 0.4719 - accuracy: 0.8220\n"
     ]
    },
    {
     "data": {
      "text/plain": [
       "[0.47189566493034363, 0.8220000267028809]"
      ]
     },
     "execution_count": 51,
     "metadata": {},
     "output_type": "execute_result"
    }
   ],
   "source": [
    "new = model.evaluate(X_TEST,Y_TEST)\n",
    "new"
   ]
  },
  {
   "cell_type": "code",
   "execution_count": 52,
   "metadata": {
    "executionInfo": {
     "elapsed": 29969,
     "status": "ok",
     "timestamp": 1615286582797,
     "user": {
      "displayName": "mitch rebello",
      "photoUrl": "",
      "userId": "11660763223379711488"
     },
     "user_tz": -330
    },
    "id": "hWdjZ3L6hFho"
   },
   "outputs": [
    {
     "name": "stdout",
     "output_type": "stream",
     "text": [
      "WARNING:tensorflow:From C:\\Users\\mitch\\anaconda3\\lib\\site-packages\\tensorflow\\python\\training\\tracking\\tracking.py:111: Model.state_updates (from tensorflow.python.keras.engine.training) is deprecated and will be removed in a future version.\n",
      "Instructions for updating:\n",
      "This property should not be used in TensorFlow 2.0, as updates are applied automatically.\n",
      "WARNING:tensorflow:From C:\\Users\\mitch\\anaconda3\\lib\\site-packages\\tensorflow\\python\\training\\tracking\\tracking.py:111: Layer.updates (from tensorflow.python.keras.engine.base_layer) is deprecated and will be removed in a future version.\n",
      "Instructions for updating:\n",
      "This property should not be used in TensorFlow 2.0, as updates are applied automatically.\n",
      "INFO:tensorflow:Assets written to: VideoGame_model\\assets\n"
     ]
    }
   ],
   "source": [
    "model.save(\"VideoGame_model\")\n",
    "model.save_weights(\"VideoGame_weights.h5\")"
   ]
  },
  {
   "cell_type": "code",
   "execution_count": null,
   "metadata": {},
   "outputs": [],
   "source": []
  }
 ],
 "metadata": {
  "colab": {
   "authorship_tag": "ABX9TyN5mXdN/0oBA4I6tJlkVyng",
   "collapsed_sections": [
    "H9jI84Yxnr7z",
    "uiCEmIObo550",
    "XjDpdCHavOo8"
   ],
   "mount_file_id": "1hZJoce03_Au22_kIjqhiOKrU2Wr9NI6I",
   "name": "Video Games Rating prediction.ipynb",
   "provenance": []
  },
  "kernelspec": {
   "display_name": "Python 3",
   "language": "python",
   "name": "python3"
  },
  "language_info": {
   "codemirror_mode": {
    "name": "ipython",
    "version": 3
   },
   "file_extension": ".py",
   "mimetype": "text/x-python",
   "name": "python",
   "nbconvert_exporter": "python",
   "pygments_lexer": "ipython3",
   "version": "3.8.3"
  }
 },
 "nbformat": 4,
 "nbformat_minor": 1
}
